{
 "cells": [
  {
   "cell_type": "markdown",
   "metadata": {},
   "source": [
    "## Performing Linear Regression Analysis\n",
    "\n",
    "In this stage will perform a simple linear regression analysis to predict a movie's revenue based on the budget assigned to the movie production.\n",
    "\n",
    "For this, we will use the *statsmodel* approach with and without intercept"
   ]
  },
  {
   "cell_type": "code",
   "execution_count": 1,
   "metadata": {},
   "outputs": [],
   "source": [
    "# Import libraries\n",
    "import pandas as pd\n",
    "import numpy as np\n",
    "\n",
    "import matplotlib.pyplot as plt\n",
    "from matplotlib import style\n",
    "import seaborn as sns\n",
    "\n",
    "from scipy.stats import pearsonr\n",
    "from sklearn.linear_model import LinearRegression\n",
    "from sklearn.model_selection import train_test_split\n",
    "from sklearn.metrics import r2_score\n",
    "from sklearn.metrics import mean_squared_error\n",
    "import statsmodels.api as sm\n",
    "import statsmodels.formula.api as smf\n",
    "from scipy import stats\n",
    "\n",
    "plt.rcParams['image.cmap'] = \"bwr\"\n",
    "#plt.rcParams['figure.dpi'] = \"100\"\n",
    "plt.rcParams['savefig.bbox'] = \"tight\"\n",
    "style.use('ggplot') or plt.style.use('ggplot')\n",
    "\n",
    "import warnings"
   ]
  },
  {
   "cell_type": "markdown",
   "metadata": {},
   "source": [
    "### Loading our dataset"
   ]
  },
  {
   "cell_type": "code",
   "execution_count": 2,
   "metadata": {},
   "outputs": [
    {
     "data": {
      "text/html": [
       "<div>\n",
       "<style scoped>\n",
       "    .dataframe tbody tr th:only-of-type {\n",
       "        vertical-align: middle;\n",
       "    }\n",
       "\n",
       "    .dataframe tbody tr th {\n",
       "        vertical-align: top;\n",
       "    }\n",
       "\n",
       "    .dataframe thead th {\n",
       "        text-align: right;\n",
       "    }\n",
       "</style>\n",
       "<table border=\"1\" class=\"dataframe\">\n",
       "  <thead>\n",
       "    <tr style=\"text-align: right;\">\n",
       "      <th></th>\n",
       "      <th>Genre</th>\n",
       "      <th>Year</th>\n",
       "      <th>Duration</th>\n",
       "      <th>Budget</th>\n",
       "      <th>Revenue</th>\n",
       "      <th>Imdb</th>\n",
       "      <th>Personalrating</th>\n",
       "      <th>Critic_1</th>\n",
       "      <th>Critic_2</th>\n",
       "      <th>Critic_3</th>\n",
       "      <th>Critic_4</th>\n",
       "      <th>Fans</th>\n",
       "    </tr>\n",
       "    <tr>\n",
       "      <th>Title</th>\n",
       "      <th></th>\n",
       "      <th></th>\n",
       "      <th></th>\n",
       "      <th></th>\n",
       "      <th></th>\n",
       "      <th></th>\n",
       "      <th></th>\n",
       "      <th></th>\n",
       "      <th></th>\n",
       "      <th></th>\n",
       "      <th></th>\n",
       "      <th></th>\n",
       "    </tr>\n",
       "  </thead>\n",
       "  <tbody>\n",
       "    <tr>\n",
       "      <th>A quiet place</th>\n",
       "      <td>Horror</td>\n",
       "      <td>2018</td>\n",
       "      <td>90.0</td>\n",
       "      <td>17.0</td>\n",
       "      <td>340.939361</td>\n",
       "      <td>75.0</td>\n",
       "      <td>70.0</td>\n",
       "      <td>70.0</td>\n",
       "      <td>90.0</td>\n",
       "      <td>80.0</td>\n",
       "      <td>8.0</td>\n",
       "      <td>77.5</td>\n",
       "    </tr>\n",
       "    <tr>\n",
       "      <th>A quiet place Part II</th>\n",
       "      <td>Horror</td>\n",
       "      <td>2020</td>\n",
       "      <td>97.0</td>\n",
       "      <td>55.0</td>\n",
       "      <td>297.400000</td>\n",
       "      <td>72.0</td>\n",
       "      <td>70.0</td>\n",
       "      <td>80.0</td>\n",
       "      <td>40.0</td>\n",
       "      <td>60.0</td>\n",
       "      <td>6.0</td>\n",
       "      <td>69.0</td>\n",
       "    </tr>\n",
       "    <tr>\n",
       "      <th>Aladin (2019)</th>\n",
       "      <td>Fantasy</td>\n",
       "      <td>2019</td>\n",
       "      <td>128.0</td>\n",
       "      <td>183.0</td>\n",
       "      <td>1050.693953</td>\n",
       "      <td>69.0</td>\n",
       "      <td>90.0</td>\n",
       "      <td>50.0</td>\n",
       "      <td>70.0</td>\n",
       "      <td>40.0</td>\n",
       "      <td>4.0</td>\n",
       "      <td>81.5</td>\n",
       "    </tr>\n",
       "    <tr>\n",
       "      <th>Alice in Wonderland</th>\n",
       "      <td>Fantasy</td>\n",
       "      <td>2010</td>\n",
       "      <td>108.0</td>\n",
       "      <td>205.0</td>\n",
       "      <td>1028.467110</td>\n",
       "      <td>64.0</td>\n",
       "      <td>80.0</td>\n",
       "      <td>40.0</td>\n",
       "      <td>60.0</td>\n",
       "      <td>50.0</td>\n",
       "      <td>7.0</td>\n",
       "      <td>78.0</td>\n",
       "    </tr>\n",
       "    <tr>\n",
       "      <th>American Psycho</th>\n",
       "      <td>Horror</td>\n",
       "      <td>2000</td>\n",
       "      <td>101.0</td>\n",
       "      <td>7.0</td>\n",
       "      <td>34.300000</td>\n",
       "      <td>76.0</td>\n",
       "      <td>80.0</td>\n",
       "      <td>60.0</td>\n",
       "      <td>50.0</td>\n",
       "      <td>80.0</td>\n",
       "      <td>7.0</td>\n",
       "      <td>83.5</td>\n",
       "    </tr>\n",
       "  </tbody>\n",
       "</table>\n",
       "</div>"
      ],
      "text/plain": [
       "                         Genre  Year  Duration  Budget      Revenue  Imdb  \\\n",
       "Title                                                                       \n",
       "A quiet place           Horror  2018      90.0    17.0   340.939361  75.0   \n",
       "A quiet place Part II   Horror  2020      97.0    55.0   297.400000  72.0   \n",
       "Aladin (2019)          Fantasy  2019     128.0   183.0  1050.693953  69.0   \n",
       "Alice in Wonderland    Fantasy  2010     108.0   205.0  1028.467110  64.0   \n",
       "American Psycho         Horror  2000     101.0     7.0    34.300000  76.0   \n",
       "\n",
       "                       Personalrating  Critic_1  Critic_2  Critic_3  Critic_4  \\\n",
       "Title                                                                           \n",
       "A quiet place                    70.0      70.0      90.0      80.0       8.0   \n",
       "A quiet place Part II            70.0      80.0      40.0      60.0       6.0   \n",
       "Aladin (2019)                    90.0      50.0      70.0      40.0       4.0   \n",
       "Alice in Wonderland              80.0      40.0      60.0      50.0       7.0   \n",
       "American Psycho                  80.0      60.0      50.0      80.0       7.0   \n",
       "\n",
       "                       Fans  \n",
       "Title                        \n",
       "A quiet place          77.5  \n",
       "A quiet place Part II  69.0  \n",
       "Aladin (2019)          81.5  \n",
       "Alice in Wonderland    78.0  \n",
       "American Psycho        83.5  "
      ]
     },
     "execution_count": 2,
     "metadata": {},
     "output_type": "execute_result"
    }
   ],
   "source": [
    "movies = pd.read_csv(r'C:\\Users\\alana\\Documents\\TecMTY\\8vo_semestre\\Data_Science\\movie_project\\datasets\\movie_DB3_clean.csv', index_col='Title')\n",
    "movies.head()"
   ]
  },
  {
   "cell_type": "code",
   "execution_count": 3,
   "metadata": {},
   "outputs": [
    {
     "data": {
      "text/html": [
       "<div>\n",
       "<style scoped>\n",
       "    .dataframe tbody tr th:only-of-type {\n",
       "        vertical-align: middle;\n",
       "    }\n",
       "\n",
       "    .dataframe tbody tr th {\n",
       "        vertical-align: top;\n",
       "    }\n",
       "\n",
       "    .dataframe thead th {\n",
       "        text-align: right;\n",
       "    }\n",
       "</style>\n",
       "<table border=\"1\" class=\"dataframe\">\n",
       "  <thead>\n",
       "    <tr style=\"text-align: right;\">\n",
       "      <th></th>\n",
       "      <th>Budget</th>\n",
       "      <th>Revenue</th>\n",
       "    </tr>\n",
       "    <tr>\n",
       "      <th>Title</th>\n",
       "      <th></th>\n",
       "      <th></th>\n",
       "    </tr>\n",
       "  </thead>\n",
       "  <tbody>\n",
       "    <tr>\n",
       "      <th>A quiet place</th>\n",
       "      <td>17.0</td>\n",
       "      <td>340.939361</td>\n",
       "    </tr>\n",
       "    <tr>\n",
       "      <th>A quiet place Part II</th>\n",
       "      <td>55.0</td>\n",
       "      <td>297.400000</td>\n",
       "    </tr>\n",
       "    <tr>\n",
       "      <th>Aladin (2019)</th>\n",
       "      <td>183.0</td>\n",
       "      <td>1050.693953</td>\n",
       "    </tr>\n",
       "    <tr>\n",
       "      <th>Alice in Wonderland</th>\n",
       "      <td>205.0</td>\n",
       "      <td>1028.467110</td>\n",
       "    </tr>\n",
       "    <tr>\n",
       "      <th>American Psycho</th>\n",
       "      <td>7.0</td>\n",
       "      <td>34.300000</td>\n",
       "    </tr>\n",
       "  </tbody>\n",
       "</table>\n",
       "</div>"
      ],
      "text/plain": [
       "                       Budget      Revenue\n",
       "Title                                     \n",
       "A quiet place            17.0   340.939361\n",
       "A quiet place Part II    55.0   297.400000\n",
       "Aladin (2019)           183.0  1050.693953\n",
       "Alice in Wonderland     205.0  1028.467110\n",
       "American Psycho           7.0    34.300000"
      ]
     },
     "execution_count": 3,
     "metadata": {},
     "output_type": "execute_result"
    }
   ],
   "source": [
    "# Selecting just budget and revenue columns\n",
    "movies_budget = movies[['Budget', 'Revenue']]\n",
    "movies_budget.head()"
   ]
  },
  {
   "cell_type": "code",
   "execution_count": 4,
   "metadata": {},
   "outputs": [
    {
     "data": {
      "text/html": [
       "<div>\n",
       "<style scoped>\n",
       "    .dataframe tbody tr th:only-of-type {\n",
       "        vertical-align: middle;\n",
       "    }\n",
       "\n",
       "    .dataframe tbody tr th {\n",
       "        vertical-align: top;\n",
       "    }\n",
       "\n",
       "    .dataframe thead th {\n",
       "        text-align: right;\n",
       "    }\n",
       "</style>\n",
       "<table border=\"1\" class=\"dataframe\">\n",
       "  <thead>\n",
       "    <tr style=\"text-align: right;\">\n",
       "      <th></th>\n",
       "      <th>Budget</th>\n",
       "      <th>Revenue</th>\n",
       "    </tr>\n",
       "  </thead>\n",
       "  <tbody>\n",
       "    <tr>\n",
       "      <th>count</th>\n",
       "      <td>167.000000</td>\n",
       "      <td>167.000000</td>\n",
       "    </tr>\n",
       "    <tr>\n",
       "      <th>mean</th>\n",
       "      <td>91.943078</td>\n",
       "      <td>469.075315</td>\n",
       "    </tr>\n",
       "    <tr>\n",
       "      <th>std</th>\n",
       "      <td>69.063796</td>\n",
       "      <td>359.675748</td>\n",
       "    </tr>\n",
       "    <tr>\n",
       "      <th>min</th>\n",
       "      <td>0.636000</td>\n",
       "      <td>0.621392</td>\n",
       "    </tr>\n",
       "    <tr>\n",
       "      <th>25%</th>\n",
       "      <td>25.000000</td>\n",
       "      <td>188.160956</td>\n",
       "    </tr>\n",
       "    <tr>\n",
       "      <th>50%</th>\n",
       "      <td>85.000000</td>\n",
       "      <td>383.200000</td>\n",
       "    </tr>\n",
       "    <tr>\n",
       "      <th>75%</th>\n",
       "      <td>150.000000</td>\n",
       "      <td>701.750000</td>\n",
       "    </tr>\n",
       "    <tr>\n",
       "      <th>max</th>\n",
       "      <td>291.000000</td>\n",
       "      <td>1516.045911</td>\n",
       "    </tr>\n",
       "  </tbody>\n",
       "</table>\n",
       "</div>"
      ],
      "text/plain": [
       "           Budget      Revenue\n",
       "count  167.000000   167.000000\n",
       "mean    91.943078   469.075315\n",
       "std     69.063796   359.675748\n",
       "min      0.636000     0.621392\n",
       "25%     25.000000   188.160956\n",
       "50%     85.000000   383.200000\n",
       "75%    150.000000   701.750000\n",
       "max    291.000000  1516.045911"
      ]
     },
     "execution_count": 4,
     "metadata": {},
     "output_type": "execute_result"
    }
   ],
   "source": [
    "# Getting an overall description of our budget and revenue data\n",
    "movies_budget.describe()"
   ]
  },
  {
   "cell_type": "markdown",
   "metadata": {},
   "source": [
    "### Graphical analysis\n",
    "\n",
    "As a first step, we plot the data in order to see if there is a relation between variables and calculate correlation matrix"
   ]
  },
  {
   "cell_type": "code",
   "execution_count": 5,
   "metadata": {},
   "outputs": [
    {
     "data": {
      "text/plain": [
       "Text(0.5, 1.0, 'Box office revenue vs Budget')"
      ]
     },
     "execution_count": 5,
     "metadata": {},
     "output_type": "execute_result"
    },
    {
     "data": {
      "image/png": "[encoded data removed]",
      "text/plain": [
       "<Figure size 600x384 with 1 Axes>"
      ]
     },
     "metadata": {},
     "output_type": "display_data"
    }
   ],
   "source": [
    "# Scatter plot\n",
    "# ==============================================================================\n",
    "fig, ax = plt.subplots(figsize=(6, 3.84))\n",
    "\n",
    "movies_budget.plot(\n",
    "    x    = 'Budget',\n",
    "    y    = 'Revenue',\n",
    "    c    = 'firebrick',\n",
    "    kind = \"scatter\",\n",
    "    ax   = ax\n",
    ")\n",
    "ax.set_title('Box office revenue vs Budget')"
   ]
  },
  {
   "cell_type": "code",
   "execution_count": 6,
   "metadata": {},
   "outputs": [
    {
     "name": "stdout",
     "output_type": "stream",
     "text": [
      "Pearson correlation coefficient:  0.6811903867597054\n",
      "P-value:  4.083688095411766e-24\n"
     ]
    }
   ],
   "source": [
    "# Linear correlation\n",
    "# ==============================================================================\n",
    "corr_test = pearsonr(x = movies_budget['Budget'], y =  movies_budget['Revenue'])\n",
    "print(\"Pearson correlation coefficient: \", corr_test[0])\n",
    "print(\"P-value: \", corr_test[1])"
   ]
  },
  {
   "cell_type": "markdown",
   "metadata": {},
   "source": [
    "As we can see above, the correlation test and the graph shows a veru slight linear relation. With a low intensity of *r=0.68* and a *p-value* of 4.08e-24.\n",
    "\n",
    "Although the correlation coefficient is low, we will proceed to generate a linear regression model so we can predict __Revenue__ as a function of __Budget__"
   ]
  },
  {
   "cell_type": "markdown",
   "metadata": {},
   "source": [
    "# Model fitting\n",
    "\n",
    "We will fit a linear regression model with __Revenue__ as the response variable, and __Budget__ as the predictor. We will use the **Statsmodels** which provides two ways of training the model:\n",
    "\n",
    "- Giving a formula for the model and feeding it with a `DataFrame` for the training test that includes the response variable and the predictors. This is similar to the method used in **R**.\n",
    "\n",
    "- Giving two matrices, a predictor matrix and a response matrix."
   ]
  },
  {
   "cell_type": "code",
   "execution_count": 7,
   "metadata": {},
   "outputs": [],
   "source": [
    "# Train-test splitting\n",
    "# ==============================================================================\n",
    "X = movies_budget[['Budget']]\n",
    "y = movies_budget['Revenue']\n",
    "\n",
    "# Split dataset in training and test\n",
    "X_train, X_test, y_train, y_test = train_test_split(\n",
    "                                        X.values.reshape(-1,1),\n",
    "                                        y.values.reshape(-1,1),\n",
    "                                        train_size   = 0.8,\n",
    "                                        random_state = 512,\n",
    "                                        shuffle      = True\n",
    "                                    )"
   ]
  },
  {
   "cell_type": "markdown",
   "metadata": {},
   "source": [
    "### Model fitting using a formula\n",
    "\n",
    "1) With intercept"
   ]
  },
  {
   "cell_type": "code",
   "execution_count": 8,
   "metadata": {},
   "outputs": [
    {
     "data": {
      "text/html": [
       "<table class=\"simpletable\">\n",
       "<caption>OLS Regression Results</caption>\n",
       "<tr>\n",
       "  <th>Dep. Variable:</th>         <td>Revenue</td>     <th>  R-squared:         </th> <td>   0.466</td>\n",
       "</tr>\n",
       "<tr>\n",
       "  <th>Model:</th>                   <td>OLS</td>       <th>  Adj. R-squared:    </th> <td>   0.462</td>\n",
       "</tr>\n",
       "<tr>\n",
       "  <th>Method:</th>             <td>Least Squares</td>  <th>  F-statistic:       </th> <td>   114.2</td>\n",
       "</tr>\n",
       "<tr>\n",
       "  <th>Date:</th>             <td>Wed, 19 Jun 2024</td> <th>  Prob (F-statistic):</th> <td>1.48e-19</td>\n",
       "</tr>\n",
       "<tr>\n",
       "  <th>Time:</th>                 <td>17:23:30</td>     <th>  Log-Likelihood:    </th> <td> -928.34</td>\n",
       "</tr>\n",
       "<tr>\n",
       "  <th>No. Observations:</th>      <td>   133</td>      <th>  AIC:               </th> <td>   1861.</td>\n",
       "</tr>\n",
       "<tr>\n",
       "  <th>Df Residuals:</th>          <td>   131</td>      <th>  BIC:               </th> <td>   1866.</td>\n",
       "</tr>\n",
       "<tr>\n",
       "  <th>Df Model:</th>              <td>     1</td>      <th>                     </th>     <td> </td>   \n",
       "</tr>\n",
       "<tr>\n",
       "  <th>Covariance Type:</th>      <td>nonrobust</td>    <th>                     </th>     <td> </td>   \n",
       "</tr>\n",
       "</table>\n",
       "<table class=\"simpletable\">\n",
       "<tr>\n",
       "      <td></td>         <th>coef</th>     <th>std err</th>      <th>t</th>      <th>P>|t|</th>  <th>[0.025</th>    <th>0.975]</th>  \n",
       "</tr>\n",
       "<tr>\n",
       "  <th>Intercept</th> <td>  164.6702</td> <td>   37.418</td> <td>    4.401</td> <td> 0.000</td> <td>   90.649</td> <td>  238.691</td>\n",
       "</tr>\n",
       "<tr>\n",
       "  <th>Budget</th>    <td>    3.4558</td> <td>    0.323</td> <td>   10.687</td> <td> 0.000</td> <td>    2.816</td> <td>    4.095</td>\n",
       "</tr>\n",
       "</table>\n",
       "<table class=\"simpletable\">\n",
       "<tr>\n",
       "  <th>Omnibus:</th>       <td>14.139</td> <th>  Durbin-Watson:     </th> <td>   2.026</td>\n",
       "</tr>\n",
       "<tr>\n",
       "  <th>Prob(Omnibus):</th> <td> 0.001</td> <th>  Jarque-Bera (JB):  </th> <td>  15.657</td>\n",
       "</tr>\n",
       "<tr>\n",
       "  <th>Skew:</th>          <td> 0.719</td> <th>  Prob(JB):          </th> <td>0.000398</td>\n",
       "</tr>\n",
       "<tr>\n",
       "  <th>Kurtosis:</th>      <td> 3.869</td> <th>  Cond. No.          </th> <td>    191.</td>\n",
       "</tr>\n",
       "</table><br/><br/>Notes:<br/>[1] Standard Errors assume that the covariance matrix of the errors is correctly specified."
      ],
      "text/latex": [
       "\\begin{center}\n",
       "\\begin{tabular}{lclc}\n",
       "\\toprule\n",
       "\\textbf{Dep. Variable:}    &     Revenue      & \\textbf{  R-squared:         } &     0.466   \\\\\n",
       "\\textbf{Model:}            &       OLS        & \\textbf{  Adj. R-squared:    } &     0.462   \\\\\n",
       "\\textbf{Method:}           &  Least Squares   & \\textbf{  F-statistic:       } &     114.2   \\\\\n",
       "\\textbf{Date:}             & Wed, 19 Jun 2024 & \\textbf{  Prob (F-statistic):} &  1.48e-19   \\\\\n",
       "\\textbf{Time:}             &     17:23:30     & \\textbf{  Log-Likelihood:    } &   -928.34   \\\\\n",
       "\\textbf{No. Observations:} &         133      & \\textbf{  AIC:               } &     1861.   \\\\\n",
       "\\textbf{Df Residuals:}     &         131      & \\textbf{  BIC:               } &     1866.   \\\\\n",
       "\\textbf{Df Model:}         &           1      & \\textbf{                     } &             \\\\\n",
       "\\textbf{Covariance Type:}  &    nonrobust     & \\textbf{                     } &             \\\\\n",
       "\\bottomrule\n",
       "\\end{tabular}\n",
       "\\begin{tabular}{lcccccc}\n",
       "                   & \\textbf{coef} & \\textbf{std err} & \\textbf{t} & \\textbf{P$> |$t$|$} & \\textbf{[0.025} & \\textbf{0.975]}  \\\\\n",
       "\\midrule\n",
       "\\textbf{Intercept} &     164.6702  &       37.418     &     4.401  &         0.000        &       90.649    &      238.691     \\\\\n",
       "\\textbf{Budget}    &       3.4558  &        0.323     &    10.687  &         0.000        &        2.816    &        4.095     \\\\\n",
       "\\bottomrule\n",
       "\\end{tabular}\n",
       "\\begin{tabular}{lclc}\n",
       "\\textbf{Omnibus:}       & 14.139 & \\textbf{  Durbin-Watson:     } &    2.026  \\\\\n",
       "\\textbf{Prob(Omnibus):} &  0.001 & \\textbf{  Jarque-Bera (JB):  } &   15.657  \\\\\n",
       "\\textbf{Skew:}          &  0.719 & \\textbf{  Prob(JB):          } & 0.000398  \\\\\n",
       "\\textbf{Kurtosis:}      &  3.869 & \\textbf{  Cond. No.          } &     191.  \\\\\n",
       "\\bottomrule\n",
       "\\end{tabular}\n",
       "%\\caption{OLS Regression Results}\n",
       "\\end{center}\n",
       "\n",
       "Notes: \\newline\n",
       " [1] Standard Errors assume that the covariance matrix of the errors is correctly specified."
      ],
      "text/plain": [
       "<class 'statsmodels.iolib.summary.Summary'>\n",
       "\"\"\"\n",
       "                            OLS Regression Results                            \n",
       "==============================================================================\n",
       "Dep. Variable:                Revenue   R-squared:                       0.466\n",
       "Model:                            OLS   Adj. R-squared:                  0.462\n",
       "Method:                 Least Squares   F-statistic:                     114.2\n",
       "Date:                Wed, 19 Jun 2024   Prob (F-statistic):           1.48e-19\n",
       "Time:                        17:23:30   Log-Likelihood:                -928.34\n",
       "No. Observations:                 133   AIC:                             1861.\n",
       "Df Residuals:                     131   BIC:                             1866.\n",
       "Df Model:                           1                                         \n",
       "Covariance Type:            nonrobust                                         \n",
       "==============================================================================\n",
       "                 coef    std err          t      P>|t|      [0.025      0.975]\n",
       "------------------------------------------------------------------------------\n",
       "Intercept    164.6702     37.418      4.401      0.000      90.649     238.691\n",
       "Budget         3.4558      0.323     10.687      0.000       2.816       4.095\n",
       "==============================================================================\n",
       "Omnibus:                       14.139   Durbin-Watson:                   2.026\n",
       "Prob(Omnibus):                  0.001   Jarque-Bera (JB):               15.657\n",
       "Skew:                           0.719   Prob(JB):                     0.000398\n",
       "Kurtosis:                       3.869   Cond. No.                         191.\n",
       "==============================================================================\n",
       "\n",
       "Notes:\n",
       "[1] Standard Errors assume that the covariance matrix of the errors is correctly specified.\n",
       "\"\"\""
      ]
     },
     "execution_count": 8,
     "metadata": {},
     "output_type": "execute_result"
    }
   ],
   "source": [
    "# Model fitting using a formula\n",
    "# ==============================================================================\n",
    "movies_budget_train = pd.DataFrame(np.hstack((X_train, y_train)), columns=['Budget', 'Revenue'])\n",
    "modelf = smf.ols(formula = 'Revenue ~ Budget', data = movies_budget_train)\n",
    "modelf = modelf.fit()\n",
    "modelf.summary()"
   ]
  },
  {
   "cell_type": "markdown",
   "metadata": {},
   "source": [
    "As we can see in the OLS Regression results, __R^2__ is very small so we suspect that the intercept must be zero"
   ]
  },
  {
   "cell_type": "markdown",
   "metadata": {},
   "source": [
    "2) Without intercept"
   ]
  },
  {
   "cell_type": "code",
   "execution_count": 9,
   "metadata": {},
   "outputs": [
    {
     "data": {
      "text/html": [
       "<table class=\"simpletable\">\n",
       "<caption>OLS Regression Results</caption>\n",
       "<tr>\n",
       "  <th>Dep. Variable:</th>         <td>Revenue</td>     <th>  R-squared (uncentered):</th>      <td>   0.784</td>\n",
       "</tr>\n",
       "<tr>\n",
       "  <th>Model:</th>                   <td>OLS</td>       <th>  Adj. R-squared (uncentered):</th> <td>   0.782</td>\n",
       "</tr>\n",
       "<tr>\n",
       "  <th>Method:</th>             <td>Least Squares</td>  <th>  F-statistic:       </th>          <td>   478.8</td>\n",
       "</tr>\n",
       "<tr>\n",
       "  <th>Date:</th>             <td>Wed, 19 Jun 2024</td> <th>  Prob (F-statistic):</th>          <td>9.57e-46</td>\n",
       "</tr>\n",
       "<tr>\n",
       "  <th>Time:</th>                 <td>17:25:28</td>     <th>  Log-Likelihood:    </th>          <td> -937.51</td>\n",
       "</tr>\n",
       "<tr>\n",
       "  <th>No. Observations:</th>      <td>   133</td>      <th>  AIC:               </th>          <td>   1877.</td>\n",
       "</tr>\n",
       "<tr>\n",
       "  <th>Df Residuals:</th>          <td>   132</td>      <th>  BIC:               </th>          <td>   1880.</td>\n",
       "</tr>\n",
       "<tr>\n",
       "  <th>Df Model:</th>              <td>     1</td>      <th>                     </th>              <td> </td>   \n",
       "</tr>\n",
       "<tr>\n",
       "  <th>Covariance Type:</th>      <td>nonrobust</td>    <th>                     </th>              <td> </td>   \n",
       "</tr>\n",
       "</table>\n",
       "<table class=\"simpletable\">\n",
       "<tr>\n",
       "     <td></td>       <th>coef</th>     <th>std err</th>      <th>t</th>      <th>P>|t|</th>  <th>[0.025</th>    <th>0.975]</th>  \n",
       "</tr>\n",
       "<tr>\n",
       "  <th>Budget</th> <td>    4.5863</td> <td>    0.210</td> <td>   21.882</td> <td> 0.000</td> <td>    4.172</td> <td>    5.001</td>\n",
       "</tr>\n",
       "</table>\n",
       "<table class=\"simpletable\">\n",
       "<tr>\n",
       "  <th>Omnibus:</th>       <td> 5.366</td> <th>  Durbin-Watson:     </th> <td>   2.023</td>\n",
       "</tr>\n",
       "<tr>\n",
       "  <th>Prob(Omnibus):</th> <td> 0.068</td> <th>  Jarque-Bera (JB):  </th> <td>   7.620</td>\n",
       "</tr>\n",
       "<tr>\n",
       "  <th>Skew:</th>          <td> 0.104</td> <th>  Prob(JB):          </th> <td>  0.0221</td>\n",
       "</tr>\n",
       "<tr>\n",
       "  <th>Kurtosis:</th>      <td> 4.154</td> <th>  Cond. No.          </th> <td>    1.00</td>\n",
       "</tr>\n",
       "</table><br/><br/>Notes:<br/>[1] R² is computed without centering (uncentered) since the model does not contain a constant.<br/>[2] Standard Errors assume that the covariance matrix of the errors is correctly specified."
      ],
      "text/latex": [
       "\\begin{center}\n",
       "\\begin{tabular}{lclc}\n",
       "\\toprule\n",
       "\\textbf{Dep. Variable:}    &     Revenue      & \\textbf{  R-squared (uncentered):}      &     0.784   \\\\\n",
       "\\textbf{Model:}            &       OLS        & \\textbf{  Adj. R-squared (uncentered):} &     0.782   \\\\\n",
       "\\textbf{Method:}           &  Least Squares   & \\textbf{  F-statistic:       }          &     478.8   \\\\\n",
       "\\textbf{Date:}             & Wed, 19 Jun 2024 & \\textbf{  Prob (F-statistic):}          &  9.57e-46   \\\\\n",
       "\\textbf{Time:}             &     17:25:28     & \\textbf{  Log-Likelihood:    }          &   -937.51   \\\\\n",
       "\\textbf{No. Observations:} &         133      & \\textbf{  AIC:               }          &     1877.   \\\\\n",
       "\\textbf{Df Residuals:}     &         132      & \\textbf{  BIC:               }          &     1880.   \\\\\n",
       "\\textbf{Df Model:}         &           1      & \\textbf{                     }          &             \\\\\n",
       "\\textbf{Covariance Type:}  &    nonrobust     & \\textbf{                     }          &             \\\\\n",
       "\\bottomrule\n",
       "\\end{tabular}\n",
       "\\begin{tabular}{lcccccc}\n",
       "                & \\textbf{coef} & \\textbf{std err} & \\textbf{t} & \\textbf{P$> |$t$|$} & \\textbf{[0.025} & \\textbf{0.975]}  \\\\\n",
       "\\midrule\n",
       "\\textbf{Budget} &       4.5863  &        0.210     &    21.882  &         0.000        &        4.172    &        5.001     \\\\\n",
       "\\bottomrule\n",
       "\\end{tabular}\n",
       "\\begin{tabular}{lclc}\n",
       "\\textbf{Omnibus:}       &  5.366 & \\textbf{  Durbin-Watson:     } &    2.023  \\\\\n",
       "\\textbf{Prob(Omnibus):} &  0.068 & \\textbf{  Jarque-Bera (JB):  } &    7.620  \\\\\n",
       "\\textbf{Skew:}          &  0.104 & \\textbf{  Prob(JB):          } &   0.0221  \\\\\n",
       "\\textbf{Kurtosis:}      &  4.154 & \\textbf{  Cond. No.          } &     1.00  \\\\\n",
       "\\bottomrule\n",
       "\\end{tabular}\n",
       "%\\caption{OLS Regression Results}\n",
       "\\end{center}\n",
       "\n",
       "Notes: \\newline\n",
       " [1] R² is computed without centering (uncentered) since the model does not contain a constant. \\newline\n",
       " [2] Standard Errors assume that the covariance matrix of the errors is correctly specified."
      ],
      "text/plain": [
       "<class 'statsmodels.iolib.summary.Summary'>\n",
       "\"\"\"\n",
       "                                 OLS Regression Results                                \n",
       "=======================================================================================\n",
       "Dep. Variable:                Revenue   R-squared (uncentered):                   0.784\n",
       "Model:                            OLS   Adj. R-squared (uncentered):              0.782\n",
       "Method:                 Least Squares   F-statistic:                              478.8\n",
       "Date:                Wed, 19 Jun 2024   Prob (F-statistic):                    9.57e-46\n",
       "Time:                        17:25:28   Log-Likelihood:                         -937.51\n",
       "No. Observations:                 133   AIC:                                      1877.\n",
       "Df Residuals:                     132   BIC:                                      1880.\n",
       "Df Model:                           1                                                  \n",
       "Covariance Type:            nonrobust                                                  \n",
       "==============================================================================\n",
       "                 coef    std err          t      P>|t|      [0.025      0.975]\n",
       "------------------------------------------------------------------------------\n",
       "Budget         4.5863      0.210     21.882      0.000       4.172       5.001\n",
       "==============================================================================\n",
       "Omnibus:                        5.366   Durbin-Watson:                   2.023\n",
       "Prob(Omnibus):                  0.068   Jarque-Bera (JB):                7.620\n",
       "Skew:                           0.104   Prob(JB):                       0.0221\n",
       "Kurtosis:                       4.154   Cond. No.                         1.00\n",
       "==============================================================================\n",
       "\n",
       "Notes:\n",
       "[1] R² is computed without centering (uncentered) since the model does not contain a constant.\n",
       "[2] Standard Errors assume that the covariance matrix of the errors is correctly specified.\n",
       "\"\"\""
      ]
     },
     "execution_count": 9,
     "metadata": {},
     "output_type": "execute_result"
    }
   ],
   "source": [
    "# Model fitting using a formula\n",
    "# ==============================================================================\n",
    "movies_budget_train = pd.DataFrame(np.hstack((X_train, y_train)), columns=['Budget', 'Revenue'])\n",
    "modelf_noint = smf.ols(formula = 'Revenue ~ Budget + 0', data = movies_budget_train)\n",
    "modelf_noint = modelf_noint.fit()\n",
    "modelf_noint.summary()"
   ]
  },
  {
   "cell_type": "markdown",
   "metadata": {},
   "source": [
    "In effect, eliminating the intercept increases __R^2__"
   ]
  },
  {
   "cell_type": "markdown",
   "metadata": {},
   "source": [
    "### Model fitting using matrices"
   ]
  },
  {
   "cell_type": "markdown",
   "metadata": {},
   "source": [
    "1) With intercept"
   ]
  },
  {
   "cell_type": "code",
   "execution_count": 10,
   "metadata": {},
   "outputs": [
    {
     "data": {
      "text/html": [
       "<table class=\"simpletable\">\n",
       "<caption>OLS Regression Results</caption>\n",
       "<tr>\n",
       "  <th>Dep. Variable:</th>            <td>y</td>        <th>  R-squared:         </th> <td>   0.466</td>\n",
       "</tr>\n",
       "<tr>\n",
       "  <th>Model:</th>                   <td>OLS</td>       <th>  Adj. R-squared:    </th> <td>   0.462</td>\n",
       "</tr>\n",
       "<tr>\n",
       "  <th>Method:</th>             <td>Least Squares</td>  <th>  F-statistic:       </th> <td>   114.2</td>\n",
       "</tr>\n",
       "<tr>\n",
       "  <th>Date:</th>             <td>Wed, 19 Jun 2024</td> <th>  Prob (F-statistic):</th> <td>1.48e-19</td>\n",
       "</tr>\n",
       "<tr>\n",
       "  <th>Time:</th>                 <td>17:31:04</td>     <th>  Log-Likelihood:    </th> <td> -928.34</td>\n",
       "</tr>\n",
       "<tr>\n",
       "  <th>No. Observations:</th>      <td>   133</td>      <th>  AIC:               </th> <td>   1861.</td>\n",
       "</tr>\n",
       "<tr>\n",
       "  <th>Df Residuals:</th>          <td>   131</td>      <th>  BIC:               </th> <td>   1866.</td>\n",
       "</tr>\n",
       "<tr>\n",
       "  <th>Df Model:</th>              <td>     1</td>      <th>                     </th>     <td> </td>   \n",
       "</tr>\n",
       "<tr>\n",
       "  <th>Covariance Type:</th>      <td>nonrobust</td>    <th>                     </th>     <td> </td>   \n",
       "</tr>\n",
       "</table>\n",
       "<table class=\"simpletable\">\n",
       "<tr>\n",
       "    <td></td>       <th>coef</th>     <th>std err</th>      <th>t</th>      <th>P>|t|</th>  <th>[0.025</th>    <th>0.975]</th>  \n",
       "</tr>\n",
       "<tr>\n",
       "  <th>const</th> <td>  164.6702</td> <td>   37.418</td> <td>    4.401</td> <td> 0.000</td> <td>   90.649</td> <td>  238.691</td>\n",
       "</tr>\n",
       "<tr>\n",
       "  <th>x1</th>    <td>    3.4558</td> <td>    0.323</td> <td>   10.687</td> <td> 0.000</td> <td>    2.816</td> <td>    4.095</td>\n",
       "</tr>\n",
       "</table>\n",
       "<table class=\"simpletable\">\n",
       "<tr>\n",
       "  <th>Omnibus:</th>       <td>14.139</td> <th>  Durbin-Watson:     </th> <td>   2.026</td>\n",
       "</tr>\n",
       "<tr>\n",
       "  <th>Prob(Omnibus):</th> <td> 0.001</td> <th>  Jarque-Bera (JB):  </th> <td>  15.657</td>\n",
       "</tr>\n",
       "<tr>\n",
       "  <th>Skew:</th>          <td> 0.719</td> <th>  Prob(JB):          </th> <td>0.000398</td>\n",
       "</tr>\n",
       "<tr>\n",
       "  <th>Kurtosis:</th>      <td> 3.869</td> <th>  Cond. No.          </th> <td>    191.</td>\n",
       "</tr>\n",
       "</table><br/><br/>Notes:<br/>[1] Standard Errors assume that the covariance matrix of the errors is correctly specified."
      ],
      "text/latex": [
       "\\begin{center}\n",
       "\\begin{tabular}{lclc}\n",
       "\\toprule\n",
       "\\textbf{Dep. Variable:}    &        y         & \\textbf{  R-squared:         } &     0.466   \\\\\n",
       "\\textbf{Model:}            &       OLS        & \\textbf{  Adj. R-squared:    } &     0.462   \\\\\n",
       "\\textbf{Method:}           &  Least Squares   & \\textbf{  F-statistic:       } &     114.2   \\\\\n",
       "\\textbf{Date:}             & Wed, 19 Jun 2024 & \\textbf{  Prob (F-statistic):} &  1.48e-19   \\\\\n",
       "\\textbf{Time:}             &     17:31:04     & \\textbf{  Log-Likelihood:    } &   -928.34   \\\\\n",
       "\\textbf{No. Observations:} &         133      & \\textbf{  AIC:               } &     1861.   \\\\\n",
       "\\textbf{Df Residuals:}     &         131      & \\textbf{  BIC:               } &     1866.   \\\\\n",
       "\\textbf{Df Model:}         &           1      & \\textbf{                     } &             \\\\\n",
       "\\textbf{Covariance Type:}  &    nonrobust     & \\textbf{                     } &             \\\\\n",
       "\\bottomrule\n",
       "\\end{tabular}\n",
       "\\begin{tabular}{lcccccc}\n",
       "               & \\textbf{coef} & \\textbf{std err} & \\textbf{t} & \\textbf{P$> |$t$|$} & \\textbf{[0.025} & \\textbf{0.975]}  \\\\\n",
       "\\midrule\n",
       "\\textbf{const} &     164.6702  &       37.418     &     4.401  &         0.000        &       90.649    &      238.691     \\\\\n",
       "\\textbf{x1}    &       3.4558  &        0.323     &    10.687  &         0.000        &        2.816    &        4.095     \\\\\n",
       "\\bottomrule\n",
       "\\end{tabular}\n",
       "\\begin{tabular}{lclc}\n",
       "\\textbf{Omnibus:}       & 14.139 & \\textbf{  Durbin-Watson:     } &    2.026  \\\\\n",
       "\\textbf{Prob(Omnibus):} &  0.001 & \\textbf{  Jarque-Bera (JB):  } &   15.657  \\\\\n",
       "\\textbf{Skew:}          &  0.719 & \\textbf{  Prob(JB):          } & 0.000398  \\\\\n",
       "\\textbf{Kurtosis:}      &  3.869 & \\textbf{  Cond. No.          } &     191.  \\\\\n",
       "\\bottomrule\n",
       "\\end{tabular}\n",
       "%\\caption{OLS Regression Results}\n",
       "\\end{center}\n",
       "\n",
       "Notes: \\newline\n",
       " [1] Standard Errors assume that the covariance matrix of the errors is correctly specified."
      ],
      "text/plain": [
       "<class 'statsmodels.iolib.summary.Summary'>\n",
       "\"\"\"\n",
       "                            OLS Regression Results                            \n",
       "==============================================================================\n",
       "Dep. Variable:                      y   R-squared:                       0.466\n",
       "Model:                            OLS   Adj. R-squared:                  0.462\n",
       "Method:                 Least Squares   F-statistic:                     114.2\n",
       "Date:                Wed, 19 Jun 2024   Prob (F-statistic):           1.48e-19\n",
       "Time:                        17:31:04   Log-Likelihood:                -928.34\n",
       "No. Observations:                 133   AIC:                             1861.\n",
       "Df Residuals:                     131   BIC:                             1866.\n",
       "Df Model:                           1                                         \n",
       "Covariance Type:            nonrobust                                         \n",
       "==============================================================================\n",
       "                 coef    std err          t      P>|t|      [0.025      0.975]\n",
       "------------------------------------------------------------------------------\n",
       "const        164.6702     37.418      4.401      0.000      90.649     238.691\n",
       "x1             3.4558      0.323     10.687      0.000       2.816       4.095\n",
       "==============================================================================\n",
       "Omnibus:                       14.139   Durbin-Watson:                   2.026\n",
       "Prob(Omnibus):                  0.001   Jarque-Bera (JB):               15.657\n",
       "Skew:                           0.719   Prob(JB):                     0.000398\n",
       "Kurtosis:                       3.869   Cond. No.                         191.\n",
       "==============================================================================\n",
       "\n",
       "Notes:\n",
       "[1] Standard Errors assume that the covariance matrix of the errors is correctly specified.\n",
       "\"\"\""
      ]
     },
     "execution_count": 10,
     "metadata": {},
     "output_type": "execute_result"
    }
   ],
   "source": [
    "# Model fitting using matrices\n",
    "# ==============================================================================\n",
    "# Add a column of 1s to the predictor matrix\n",
    "X_train_int = sm.add_constant(X_train, prepend=True)\n",
    "modelm = sm.OLS(endog=y_train, exog=X_train_int,)\n",
    "modelm = modelm.fit()\n",
    "modelm.summary()"
   ]
  },
  {
   "cell_type": "markdown",
   "metadata": {},
   "source": [
    "2) Without intercept"
   ]
  },
  {
   "cell_type": "code",
   "execution_count": 11,
   "metadata": {},
   "outputs": [
    {
     "data": {
      "text/html": [
       "<table class=\"simpletable\">\n",
       "<caption>OLS Regression Results</caption>\n",
       "<tr>\n",
       "  <th>Dep. Variable:</th>            <td>y</td>        <th>  R-squared (uncentered):</th>      <td>   0.784</td>\n",
       "</tr>\n",
       "<tr>\n",
       "  <th>Model:</th>                   <td>OLS</td>       <th>  Adj. R-squared (uncentered):</th> <td>   0.782</td>\n",
       "</tr>\n",
       "<tr>\n",
       "  <th>Method:</th>             <td>Least Squares</td>  <th>  F-statistic:       </th>          <td>   478.8</td>\n",
       "</tr>\n",
       "<tr>\n",
       "  <th>Date:</th>             <td>Wed, 19 Jun 2024</td> <th>  Prob (F-statistic):</th>          <td>9.57e-46</td>\n",
       "</tr>\n",
       "<tr>\n",
       "  <th>Time:</th>                 <td>17:31:26</td>     <th>  Log-Likelihood:    </th>          <td> -937.51</td>\n",
       "</tr>\n",
       "<tr>\n",
       "  <th>No. Observations:</th>      <td>   133</td>      <th>  AIC:               </th>          <td>   1877.</td>\n",
       "</tr>\n",
       "<tr>\n",
       "  <th>Df Residuals:</th>          <td>   132</td>      <th>  BIC:               </th>          <td>   1880.</td>\n",
       "</tr>\n",
       "<tr>\n",
       "  <th>Df Model:</th>              <td>     1</td>      <th>                     </th>              <td> </td>   \n",
       "</tr>\n",
       "<tr>\n",
       "  <th>Covariance Type:</th>      <td>nonrobust</td>    <th>                     </th>              <td> </td>   \n",
       "</tr>\n",
       "</table>\n",
       "<table class=\"simpletable\">\n",
       "<tr>\n",
       "   <td></td>     <th>coef</th>     <th>std err</th>      <th>t</th>      <th>P>|t|</th>  <th>[0.025</th>    <th>0.975]</th>  \n",
       "</tr>\n",
       "<tr>\n",
       "  <th>x1</th> <td>    4.5863</td> <td>    0.210</td> <td>   21.882</td> <td> 0.000</td> <td>    4.172</td> <td>    5.001</td>\n",
       "</tr>\n",
       "</table>\n",
       "<table class=\"simpletable\">\n",
       "<tr>\n",
       "  <th>Omnibus:</th>       <td> 5.366</td> <th>  Durbin-Watson:     </th> <td>   2.023</td>\n",
       "</tr>\n",
       "<tr>\n",
       "  <th>Prob(Omnibus):</th> <td> 0.068</td> <th>  Jarque-Bera (JB):  </th> <td>   7.620</td>\n",
       "</tr>\n",
       "<tr>\n",
       "  <th>Skew:</th>          <td> 0.104</td> <th>  Prob(JB):          </th> <td>  0.0221</td>\n",
       "</tr>\n",
       "<tr>\n",
       "  <th>Kurtosis:</th>      <td> 4.154</td> <th>  Cond. No.          </th> <td>    1.00</td>\n",
       "</tr>\n",
       "</table><br/><br/>Notes:<br/>[1] R² is computed without centering (uncentered) since the model does not contain a constant.<br/>[2] Standard Errors assume that the covariance matrix of the errors is correctly specified."
      ],
      "text/latex": [
       "\\begin{center}\n",
       "\\begin{tabular}{lclc}\n",
       "\\toprule\n",
       "\\textbf{Dep. Variable:}    &        y         & \\textbf{  R-squared (uncentered):}      &     0.784   \\\\\n",
       "\\textbf{Model:}            &       OLS        & \\textbf{  Adj. R-squared (uncentered):} &     0.782   \\\\\n",
       "\\textbf{Method:}           &  Least Squares   & \\textbf{  F-statistic:       }          &     478.8   \\\\\n",
       "\\textbf{Date:}             & Wed, 19 Jun 2024 & \\textbf{  Prob (F-statistic):}          &  9.57e-46   \\\\\n",
       "\\textbf{Time:}             &     17:31:26     & \\textbf{  Log-Likelihood:    }          &   -937.51   \\\\\n",
       "\\textbf{No. Observations:} &         133      & \\textbf{  AIC:               }          &     1877.   \\\\\n",
       "\\textbf{Df Residuals:}     &         132      & \\textbf{  BIC:               }          &     1880.   \\\\\n",
       "\\textbf{Df Model:}         &           1      & \\textbf{                     }          &             \\\\\n",
       "\\textbf{Covariance Type:}  &    nonrobust     & \\textbf{                     }          &             \\\\\n",
       "\\bottomrule\n",
       "\\end{tabular}\n",
       "\\begin{tabular}{lcccccc}\n",
       "            & \\textbf{coef} & \\textbf{std err} & \\textbf{t} & \\textbf{P$> |$t$|$} & \\textbf{[0.025} & \\textbf{0.975]}  \\\\\n",
       "\\midrule\n",
       "\\textbf{x1} &       4.5863  &        0.210     &    21.882  &         0.000        &        4.172    &        5.001     \\\\\n",
       "\\bottomrule\n",
       "\\end{tabular}\n",
       "\\begin{tabular}{lclc}\n",
       "\\textbf{Omnibus:}       &  5.366 & \\textbf{  Durbin-Watson:     } &    2.023  \\\\\n",
       "\\textbf{Prob(Omnibus):} &  0.068 & \\textbf{  Jarque-Bera (JB):  } &    7.620  \\\\\n",
       "\\textbf{Skew:}          &  0.104 & \\textbf{  Prob(JB):          } &   0.0221  \\\\\n",
       "\\textbf{Kurtosis:}      &  4.154 & \\textbf{  Cond. No.          } &     1.00  \\\\\n",
       "\\bottomrule\n",
       "\\end{tabular}\n",
       "%\\caption{OLS Regression Results}\n",
       "\\end{center}\n",
       "\n",
       "Notes: \\newline\n",
       " [1] R² is computed without centering (uncentered) since the model does not contain a constant. \\newline\n",
       " [2] Standard Errors assume that the covariance matrix of the errors is correctly specified."
      ],
      "text/plain": [
       "<class 'statsmodels.iolib.summary.Summary'>\n",
       "\"\"\"\n",
       "                                 OLS Regression Results                                \n",
       "=======================================================================================\n",
       "Dep. Variable:                      y   R-squared (uncentered):                   0.784\n",
       "Model:                            OLS   Adj. R-squared (uncentered):              0.782\n",
       "Method:                 Least Squares   F-statistic:                              478.8\n",
       "Date:                Wed, 19 Jun 2024   Prob (F-statistic):                    9.57e-46\n",
       "Time:                        17:31:26   Log-Likelihood:                         -937.51\n",
       "No. Observations:                 133   AIC:                                      1877.\n",
       "Df Residuals:                     132   BIC:                                      1880.\n",
       "Df Model:                           1                                                  \n",
       "Covariance Type:            nonrobust                                                  \n",
       "==============================================================================\n",
       "                 coef    std err          t      P>|t|      [0.025      0.975]\n",
       "------------------------------------------------------------------------------\n",
       "x1             4.5863      0.210     21.882      0.000       4.172       5.001\n",
       "==============================================================================\n",
       "Omnibus:                        5.366   Durbin-Watson:                   2.023\n",
       "Prob(Omnibus):                  0.068   Jarque-Bera (JB):                7.620\n",
       "Skew:                           0.104   Prob(JB):                       0.0221\n",
       "Kurtosis:                       4.154   Cond. No.                         1.00\n",
       "==============================================================================\n",
       "\n",
       "Notes:\n",
       "[1] R² is computed without centering (uncentered) since the model does not contain a constant.\n",
       "[2] Standard Errors assume that the covariance matrix of the errors is correctly specified.\n",
       "\"\"\""
      ]
     },
     "execution_count": 11,
     "metadata": {},
     "output_type": "execute_result"
    }
   ],
   "source": [
    "# Model fitting using matrices\n",
    "# ==============================================================================\n",
    "modelm_noint = sm.OLS(endog=y_train, exog=X_train,)\n",
    "modelm_noint = modelm_noint.fit()\n",
    "modelm_noint.summary()"
   ]
  },
  {
   "cell_type": "markdown",
   "metadata": {},
   "source": [
    "Based on the results obtained previously, for our analysis we will use a model without intercept"
   ]
  },
  {
   "cell_type": "markdown",
   "metadata": {},
   "source": [
    "## Confidence intervals for the coefficients"
   ]
  },
  {
   "cell_type": "code",
   "execution_count": 12,
   "metadata": {},
   "outputs": [
    {
     "data": {
      "text/plain": [
       "array([[4.17173022, 5.00093892]])"
      ]
     },
     "execution_count": 12,
     "metadata": {},
     "output_type": "execute_result"
    }
   ],
   "source": [
    "# Confidence intervals for the coefficients\n",
    "# ==============================================================================\n",
    "modelm_noint.conf_int(alpha=0.05)"
   ]
  },
  {
   "cell_type": "markdown",
   "metadata": {},
   "source": [
    "## Residual analysis"
   ]
  },
  {
   "cell_type": "code",
   "execution_count": 13,
   "metadata": {},
   "outputs": [],
   "source": [
    "# Residual analysis\n",
    "# ==============================================================================\n",
    "y_train = y_train.flatten()\n",
    "prediction_train = modelm_noint.predict(exog = X_train)\n",
    "residues_train   = prediction_train - y_train"
   ]
  },
  {
   "cell_type": "code",
   "execution_count": 14,
   "metadata": {},
   "outputs": [
    {
     "data": {
      "text/plain": [
       "-8077.8952272789265"
      ]
     },
     "execution_count": 14,
     "metadata": {},
     "output_type": "execute_result"
    }
   ],
   "source": [
    "residues_train.sum()"
   ]
  },
  {
   "cell_type": "code",
   "execution_count": 15,
   "metadata": {},
   "outputs": [
    {
     "data": {
      "text/plain": [
       "-60.736054340443054"
      ]
     },
     "execution_count": 15,
     "metadata": {},
     "output_type": "execute_result"
    }
   ],
   "source": [
    "residues_train.mean()"
   ]
  },
  {
   "cell_type": "code",
   "execution_count": 16,
   "metadata": {},
   "outputs": [
    {
     "data": {
      "text/plain": [
       "(-780.6199083104088, 799.4948772709911)"
      ]
     },
     "execution_count": 16,
     "metadata": {},
     "output_type": "execute_result"
    }
   ],
   "source": [
    "residues_train.min(),residues_train.max()"
   ]
  },
  {
   "cell_type": "markdown",
   "metadata": {},
   "source": [
    "We can see that the sum of residues is not zero"
   ]
  },
  {
   "cell_type": "markdown",
   "metadata": {},
   "source": [
    "## Graphs"
   ]
  },
  {
   "cell_type": "code",
   "execution_count": 17,
   "metadata": {},
   "outputs": [
    {
     "name": "stderr",
     "output_type": "stream",
     "text": [
      "C:\\Users\\alana\\AppData\\Local\\Temp\\ipykernel_41740\\646976377.py:6: UserWarning: color is redundantly defined by the 'color' keyword argument and the fmt string \"k--\" (-> color='k'). The keyword argument will take precedence.\n",
      "  axes[0, 0].plot([y_train.min(), y_train.max()], [prediction_train.min(), prediction_train.max()],\n",
      "C:\\Users\\alana\\AppData\\Local\\Packages\\PythonSoftwareFoundation.Python.3.10_qbz5n2kfra8p0\\LocalCache\\local-packages\\Python310\\site-packages\\statsmodels\\graphics\\gofplots.py:1043: UserWarning: color is redundantly defined by the 'color' keyword argument and the fmt string \"b\" (-> color=(0.0, 0.0, 1.0, 1)). The keyword argument will take precedence.\n",
      "  ax.plot(x, y, fmt, **plot_style)\n"
     ]
    },
    {
     "data": {
      "text/plain": [
       "Text(0.5, 0.98, 'Residual analysis')"
      ]
     },
     "execution_count": 17,
     "metadata": {},
     "output_type": "execute_result"
    },
    {
     "data": {
      "image/png": "[encoded data removed]",
      "text/plain": [
       "<Figure size 900x800 with 5 Axes>"
      ]
     },
     "metadata": {},
     "output_type": "display_data"
    }
   ],
   "source": [
    "# Graphs\n",
    "# ==============================================================================\n",
    "fig, axes = plt.subplots(nrows=3, ncols=2, figsize=(9, 8))\n",
    "\n",
    "axes[0, 0].scatter(y_train, prediction_train, edgecolors=(0, 0, 0), alpha = 0.4)\n",
    "axes[0, 0].plot([y_train.min(), y_train.max()], [prediction_train.min(), prediction_train.max()],\n",
    "                'k--', color = 'black', lw=2)\n",
    "axes[0, 0].set_title('Predicted value vs real value', fontsize = 10, fontweight = \"bold\")\n",
    "axes[0, 0].set_xlabel('Real')\n",
    "axes[0, 0].set_ylabel('Prediction')\n",
    "axes[0, 0].tick_params(labelsize = 7)\n",
    "\n",
    "axes[0, 1].scatter(list(range(len(y_train))), residues_train,\n",
    "                   edgecolors=(0, 0, 0), alpha = 0.4)\n",
    "axes[0, 1].axhline(y = 0, linestyle = '--', color = 'black', lw=2)\n",
    "axes[0, 1].set_title('Residues', fontsize = 10, fontweight = \"bold\")\n",
    "axes[0, 1].set_xlabel('id')\n",
    "axes[0, 1].set_ylabel('Residue')\n",
    "axes[0, 1].tick_params(labelsize = 7)\n",
    "\n",
    "sns.histplot(\n",
    "    data    = residues_train,\n",
    "    stat    = \"density\",\n",
    "    kde     = True,\n",
    "    line_kws= {'linewidth': 1},\n",
    "    color   = \"firebrick\",\n",
    "    alpha   = 0.3,\n",
    "    ax      = axes[1, 0]\n",
    ")\n",
    "\n",
    "axes[1, 0].set_title('Distribution of residues', fontsize = 10,\n",
    "                     fontweight = \"bold\")\n",
    "axes[1, 0].set_xlabel(\"Residue\")\n",
    "axes[1, 0].tick_params(labelsize = 7)\n",
    "\n",
    "\n",
    "sm.qqplot(\n",
    "    residues_train,\n",
    "    fit   = True,\n",
    "    line  = 'q',\n",
    "    ax    = axes[1, 1], \n",
    "    color = 'firebrick',\n",
    "    alpha = 0.4,\n",
    "    lw    = 2\n",
    ")\n",
    "axes[1, 1].set_title('Q-Q residues', fontsize = 10, fontweight = \"bold\")\n",
    "axes[1, 1].tick_params(labelsize = 7)\n",
    "\n",
    "axes[2, 0].scatter(prediction_train, residues_train,\n",
    "                   edgecolors=(0, 0, 0), alpha = 0.4)\n",
    "axes[2, 0].axhline(y = 0, linestyle = '--', color = 'black', lw=2)\n",
    "axes[2, 0].set_title('Residues vs prediction', fontsize = 10, fontweight = \"bold\")\n",
    "axes[2, 0].set_xlabel('Prediction')\n",
    "axes[2, 0].set_ylabel('Residue')\n",
    "axes[2, 0].tick_params(labelsize = 7)\n",
    "\n",
    "# Eliminate empty axes\n",
    "fig.delaxes(axes[2,1])\n",
    "\n",
    "fig.tight_layout()\n",
    "plt.subplots_adjust(top=0.9)\n",
    "fig.suptitle('Residual analysis', fontsize = 12, fontweight = \"bold\")"
   ]
  },
  {
   "cell_type": "markdown",
   "metadata": {},
   "source": [
    "## Normality tests\n",
    "\n",
    "Now, we will verify if the residues follow a normal distribution using two stadistical tests:\n",
    "\n",
    "- Shapiro-Wilk\n",
    "\n",
    "- D'Agostino K-squared test\n",
    "\n",
    "On both tests, the null hypothesis considers that the data follows a normal distribution. Hence, if the *$p$-value* is not smaller than the selected significance level *alpha* there is no evidence to reject the statement that the data is normally distributed."
   ]
  },
  {
   "cell_type": "code",
   "execution_count": 18,
   "metadata": {},
   "outputs": [
    {
     "data": {
      "text/plain": [
       "ShapiroResult(statistic=0.9694458885209951, pvalue=0.004320141660317331)"
      ]
     },
     "execution_count": 18,
     "metadata": {},
     "output_type": "execute_result"
    }
   ],
   "source": [
    "# Shapiro-Wilk test\n",
    "# ==============================================================================\n",
    "shapiro_test = stats.shapiro(residues_train)\n",
    "shapiro_test"
   ]
  },
  {
   "cell_type": "code",
   "execution_count": 19,
   "metadata": {},
   "outputs": [
    {
     "name": "stdout",
     "output_type": "stream",
     "text": [
      "Statistic= 5.366478569159005, p-value = 0.06834141791358568\n"
     ]
    }
   ],
   "source": [
    "# D'Agostino's K-squared test\n",
    "# ==============================================================================\n",
    "k2, p_value = stats.normaltest(residues_train)\n",
    "print(f\"Statistic= {k2}, p-value = {p_value}\")"
   ]
  },
  {
   "cell_type": "markdown",
   "metadata": {},
   "source": [
    "## Predictions\n",
    "\n",
    "Now that we trained our model, we can make predictions for new data. "
   ]
  },
  {
   "cell_type": "code",
   "execution_count": 20,
   "metadata": {},
   "outputs": [
    {
     "data": {
      "text/plain": [
       "array([ 550.36014843, 1192.44698827,   41.27701113,  270.59373965,\n",
       "         91.72669141,  137.59003711,  687.95018554,  550.36014843,\n",
       "        114.65836426,    9.17266914,  343.97509277,  275.18007422,\n",
       "        275.18007422,  458.63345703,  100.89936055,  687.95018554,\n",
       "        412.77011132,  733.81353124,  252.24840137, 1192.44698827,\n",
       "        412.77011132,   33.02160891,    3.93507506,  343.97509277,\n",
       "        756.7452041 ,  504.49680273,  839.29922636,  596.22349414,\n",
       "        100.89936055,  298.11174707,  100.89936055,  371.49310019,\n",
       "        137.59003711,   82.55402226,   68.79501855,   36.69067656,\n",
       "        687.95018554,  240.32393148,   68.79501855,  917.26691405,\n",
       "        389.83843847, 1146.58364257,  458.63345703,  573.29182128,\n",
       "        917.26691405,  756.7452041 ,  481.56512988,   38.98384385,\n",
       "         22.93167285,   32.10434199,  573.29182128,  573.29182128,\n",
       "        687.95018554,  687.95018554,  802.6085498 ,   32.10434199,\n",
       "        311.87075078,  343.97509277,  687.95018554,  619.15516699,\n",
       "        665.01851269,  316.45708535,  687.95018554,  206.38505566,\n",
       "        733.81353124,  596.22349414,  105.48569512,  504.49680273,\n",
       "        596.22349414,   22.01440594,  366.90676562,  357.73409648,\n",
       "         77.96768769,  412.77011132,  421.94278047,  114.65836426,\n",
       "        229.31672851,   91.72669141,   27.51800742,  155.93537539,\n",
       "        165.10804453,  458.63345703,  389.83843847,   13.75900371,\n",
       "        917.26691405,  431.11544961,  458.63345703,  637.50050527,\n",
       "        573.29182128,  687.95018554,  447.62625406,  275.18007422,\n",
       "          2.91690879,  378.37260205,  802.6085498 ,  362.32043105,\n",
       "        252.24840137,   18.34533828,  114.65836426,  687.95018554,\n",
       "         77.96768769,   45.8633457 ,  412.77011132,  458.63345703,\n",
       "        940.19858691,  389.83843847,  710.88185839,  160.52170996,\n",
       "        871.40356835,  756.7452041 ,  389.83843847,   20.63850557,\n",
       "       1334.62335995,   45.8633457 ,  206.38505566,  238.48939765,\n",
       "         27.51800742,   68.79501855, 1146.58364257,  174.28071367,\n",
       "       1192.44698827,   91.72669141,  802.6085498 ,  229.31672851,\n",
       "        252.24840137,  596.22349414,  137.59003711,  811.78121894,\n",
       "       1146.58364257,  160.52170996,  665.01851269,  825.54022265,\n",
       "        802.6085498 ])"
      ]
     },
     "execution_count": 20,
     "metadata": {},
     "output_type": "execute_result"
    }
   ],
   "source": [
    "# Predictions with 95% confidence intervals\n",
    "# ==============================================================================\n",
    "#predictions = modelm_noint.get_prediction(exog = X_train).summary_frame(alpha=0.05)\n",
    "predictions = modelm_noint.fittedvalues\n",
    "predictions"
   ]
  }
 ],
 "metadata": {
  "kernelspec": {
   "display_name": "Python 3",
   "language": "python",
   "name": "python3"
  },
  "language_info": {
   "codemirror_mode": {
    "name": "ipython",
    "version": 3
   },
   "file_extension": ".py",
   "mimetype": "text/x-python",
   "name": "python",
   "nbconvert_exporter": "python",
   "pygments_lexer": "ipython3",
   "version": "3.10.11"
  }
 },
 "nbformat": 4,
 "nbformat_minor": 2
}
